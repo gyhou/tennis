{
  "nbformat": 4,
  "nbformat_minor": 0,
  "metadata": {
    "colab": {
      "name": "tennis_wta_top_100_age.ipynb",
      "version": "0.3.2",
      "provenance": []
    },
    "kernelspec": {
      "name": "python3",
      "display_name": "Python 3"
    }
  },
  "cells": [
    {
      "cell_type": "markdown",
      "metadata": {
        "id": "nCN9uBCUZhev",
        "colab_type": "text"
      },
      "source": [
        "# Analyzing WTA Pro Tennis Players Dataset"
      ]
    },
    {
      "cell_type": "code",
      "metadata": {
        "id": "9AnTSnWZZWKA",
        "colab_type": "code",
        "colab": {}
      },
      "source": [
        "import matplotlib\n",
        "import numpy as np\n",
        "import pandas as pd\n",
        "import seaborn as sns\n",
        "import datetime as dt\n",
        "import matplotlib.pyplot as plt"
      ],
      "execution_count": 0,
      "outputs": []
    },
    {
      "cell_type": "markdown",
      "metadata": {
        "id": "oIZKGjdZyCEF",
        "colab_type": "text"
      },
      "source": [
        "## Load, Clean and Merge Datasets"
      ]
    },
    {
      "cell_type": "code",
      "metadata": {
        "id": "HkTchXdvZojc",
        "colab_type": "code",
        "outputId": "4c5acfb3-dd3f-492b-ffe6-724e753b27b3",
        "colab": {
          "base_uri": "https://localhost:8080/",
          "height": 212
        }
      },
      "source": [
        "# merge all ranked wta players datasets\n",
        "wta_url = \"https://raw.githubusercontent.com/JeffSackmann/tennis_wta/master/wta_rankings_{}.csv\"\n",
        "df_rank_80 = pd.read_csv(wta_url.format('80s'), header=None)\n",
        "df_rank_90 = pd.read_csv(wta_url.format('90s'), header=None)\n",
        "df_rank_00 = pd.read_csv(wta_url.format('00s'), header=None)\n",
        "df_rank_10 = pd.read_csv(wta_url.format('10s'), header=None)\n",
        "df_rank_19 = pd.read_csv(wta_url.format('current'), header=None)\n",
        "\n",
        "dfs_rank = [df_rank_80, df_rank_90, df_rank_00, df_rank_10, df_rank_19]\n",
        "\n",
        "df_rank = pd.concat(dfs_rank, axis=0, sort=False, join='outer')\n",
        "# rename player and country columns, added name column\n",
        "df_rank = df_rank.rename(columns={0:'ranking_date', 1:'rank', 2: 'player_id'})\n",
        "print(df_rank.shape)\n",
        "df_rank.head()"
      ],
      "execution_count": 0,
      "outputs": [
        {
          "output_type": "stream",
          "text": [
            "(1670401, 5)\n"
          ],
          "name": "stdout"
        },
        {
          "output_type": "execute_result",
          "data": {
            "text/html": [
              "<div>\n",
              "<style scoped>\n",
              "    .dataframe tbody tr th:only-of-type {\n",
              "        vertical-align: middle;\n",
              "    }\n",
              "\n",
              "    .dataframe tbody tr th {\n",
              "        vertical-align: top;\n",
              "    }\n",
              "\n",
              "    .dataframe thead th {\n",
              "        text-align: right;\n",
              "    }\n",
              "</style>\n",
              "<table border=\"1\" class=\"dataframe\">\n",
              "  <thead>\n",
              "    <tr style=\"text-align: right;\">\n",
              "      <th></th>\n",
              "      <th>ranking_date</th>\n",
              "      <th>rank</th>\n",
              "      <th>player_id</th>\n",
              "      <th>3</th>\n",
              "      <th>4</th>\n",
              "    </tr>\n",
              "  </thead>\n",
              "  <tbody>\n",
              "    <tr>\n",
              "      <th>0</th>\n",
              "      <td>19840101</td>\n",
              "      <td>1</td>\n",
              "      <td>200293.0</td>\n",
              "      <td>NaN</td>\n",
              "      <td>NaN</td>\n",
              "    </tr>\n",
              "    <tr>\n",
              "      <th>1</th>\n",
              "      <td>19840101</td>\n",
              "      <td>2</td>\n",
              "      <td>200259.0</td>\n",
              "      <td>NaN</td>\n",
              "      <td>NaN</td>\n",
              "    </tr>\n",
              "    <tr>\n",
              "      <th>2</th>\n",
              "      <td>19840101</td>\n",
              "      <td>3</td>\n",
              "      <td>200381.0</td>\n",
              "      <td>NaN</td>\n",
              "      <td>NaN</td>\n",
              "    </tr>\n",
              "    <tr>\n",
              "      <th>3</th>\n",
              "      <td>19840101</td>\n",
              "      <td>4</td>\n",
              "      <td>200397.0</td>\n",
              "      <td>NaN</td>\n",
              "      <td>NaN</td>\n",
              "    </tr>\n",
              "    <tr>\n",
              "      <th>4</th>\n",
              "      <td>19840101</td>\n",
              "      <td>5</td>\n",
              "      <td>200360.0</td>\n",
              "      <td>NaN</td>\n",
              "      <td>NaN</td>\n",
              "    </tr>\n",
              "  </tbody>\n",
              "</table>\n",
              "</div>"
            ],
            "text/plain": [
              "   ranking_date  rank  player_id   3   4\n",
              "0      19840101     1   200293.0 NaN NaN\n",
              "1      19840101     2   200259.0 NaN NaN\n",
              "2      19840101     3   200381.0 NaN NaN\n",
              "3      19840101     4   200397.0 NaN NaN\n",
              "4      19840101     5   200360.0 NaN NaN"
            ]
          },
          "metadata": {
            "tags": []
          },
          "execution_count": 15
        }
      ]
    },
    {
      "cell_type": "code",
      "metadata": {
        "id": "9iyKSw3nZ-Q0",
        "colab_type": "code",
        "outputId": "3a1d676b-5d6c-46cf-9d1f-215e094eee2a",
        "colab": {
          "base_uri": "https://localhost:8080/",
          "height": 212
        }
      },
      "source": [
        "# load players name df\n",
        "df_players = pd.read_csv(\"https://raw.githubusercontent.com/JeffSackmann/tennis_wta/master/wta_players.csv\", encoding = \"ISO-8859-1\")\n",
        "# renaming columns and values\n",
        "df_players = df_players.rename(columns={'200000':'player_id','X':'name_first',\n",
        "                                       'X.1':'name_list','19000000':'birthdate',\n",
        "                                        'U':'hand','UNK':'country_id'})\n",
        "# combine first and last name\n",
        "df_players['name'] = df_players['name_first']+\" \"+df_players['name_list']\n",
        "print(df_players.shape)\n",
        "df_players.head()"
      ],
      "execution_count": 0,
      "outputs": [
        {
          "output_type": "stream",
          "text": [
            "(21750, 7)\n"
          ],
          "name": "stdout"
        },
        {
          "output_type": "execute_result",
          "data": {
            "text/html": [
              "<div>\n",
              "<style scoped>\n",
              "    .dataframe tbody tr th:only-of-type {\n",
              "        vertical-align: middle;\n",
              "    }\n",
              "\n",
              "    .dataframe tbody tr th {\n",
              "        vertical-align: top;\n",
              "    }\n",
              "\n",
              "    .dataframe thead th {\n",
              "        text-align: right;\n",
              "    }\n",
              "</style>\n",
              "<table border=\"1\" class=\"dataframe\">\n",
              "  <thead>\n",
              "    <tr style=\"text-align: right;\">\n",
              "      <th></th>\n",
              "      <th>player_id</th>\n",
              "      <th>name_first</th>\n",
              "      <th>name_list</th>\n",
              "      <th>hand</th>\n",
              "      <th>birthdate</th>\n",
              "      <th>country_id</th>\n",
              "      <th>name</th>\n",
              "    </tr>\n",
              "  </thead>\n",
              "  <tbody>\n",
              "    <tr>\n",
              "      <th>0</th>\n",
              "      <td>200001</td>\n",
              "      <td>Martina</td>\n",
              "      <td>Hingis</td>\n",
              "      <td>R</td>\n",
              "      <td>19800930.0</td>\n",
              "      <td>SUI</td>\n",
              "      <td>Martina Hingis</td>\n",
              "    </tr>\n",
              "    <tr>\n",
              "      <th>1</th>\n",
              "      <td>200002</td>\n",
              "      <td>Mirjana</td>\n",
              "      <td>Lucic</td>\n",
              "      <td>R</td>\n",
              "      <td>19820309.0</td>\n",
              "      <td>CRO</td>\n",
              "      <td>Mirjana Lucic</td>\n",
              "    </tr>\n",
              "    <tr>\n",
              "      <th>2</th>\n",
              "      <td>200003</td>\n",
              "      <td>Justine</td>\n",
              "      <td>Henin</td>\n",
              "      <td>R</td>\n",
              "      <td>19820601.0</td>\n",
              "      <td>BEL</td>\n",
              "      <td>Justine Henin</td>\n",
              "    </tr>\n",
              "    <tr>\n",
              "      <th>3</th>\n",
              "      <td>200004</td>\n",
              "      <td>Kerry Anne</td>\n",
              "      <td>Guse</td>\n",
              "      <td>R</td>\n",
              "      <td>19721204.0</td>\n",
              "      <td>AUS</td>\n",
              "      <td>Kerry Anne Guse</td>\n",
              "    </tr>\n",
              "    <tr>\n",
              "      <th>4</th>\n",
              "      <td>200005</td>\n",
              "      <td>Jolene</td>\n",
              "      <td>Watanabe Giltz</td>\n",
              "      <td>R</td>\n",
              "      <td>19680831.0</td>\n",
              "      <td>USA</td>\n",
              "      <td>Jolene Watanabe Giltz</td>\n",
              "    </tr>\n",
              "  </tbody>\n",
              "</table>\n",
              "</div>"
            ],
            "text/plain": [
              "   player_id  name_first  ... country_id                   name\n",
              "0     200001     Martina  ...        SUI         Martina Hingis\n",
              "1     200002     Mirjana  ...        CRO          Mirjana Lucic\n",
              "2     200003     Justine  ...        BEL          Justine Henin\n",
              "3     200004  Kerry Anne  ...        AUS        Kerry Anne Guse\n",
              "4     200005      Jolene  ...        USA  Jolene Watanabe Giltz\n",
              "\n",
              "[5 rows x 7 columns]"
            ]
          },
          "metadata": {
            "tags": []
          },
          "execution_count": 3
        }
      ]
    },
    {
      "cell_type": "code",
      "metadata": {
        "id": "E9SpnL2uaH-Q",
        "colab_type": "code",
        "outputId": "d097f2f0-34e0-4bfd-8d96-0a5d33b69b84",
        "colab": {
          "base_uri": "https://localhost:8080/",
          "height": 185
        }
      },
      "source": [
        "# merge players name and id\n",
        "wta_ranks = pd.merge(df_rank, df_players, how='inner', on='player_id')\n",
        "# convert ranking date to float before calculating age\n",
        "wta_ranks = wta_ranks.astype({\"ranking_date\": float}, errors='ignore')\n",
        "wta_ranks['age'] = (wta_ranks['ranking_date']-wta_ranks['birthdate'])/10000\n",
        "\n",
        "print(wta_ranks.shape)\n",
        "# formats each row to 'object' dtype so output is not in scientific notation\n",
        "wta_ranks.age.describe().apply(lambda x: format(x, 'f'))\n",
        "# min age too low"
      ],
      "execution_count": 0,
      "outputs": [
        {
          "output_type": "stream",
          "text": [
            "(1670400, 12)\n"
          ],
          "name": "stdout"
        },
        {
          "output_type": "execute_result",
          "data": {
            "text/plain": [
              "count    1669802.000000\n",
              "mean          21.636785\n",
              "std            3.992387\n",
              "min            5.980300\n",
              "25%           18.950000\n",
              "50%           20.988700\n",
              "75%           23.998600\n",
              "max           70.960800\n",
              "Name: age, dtype: object"
            ]
          },
          "metadata": {
            "tags": []
          },
          "execution_count": 13
        }
      ]
    },
    {
      "cell_type": "markdown",
      "metadata": {
        "id": "axZtFGYeyPe-",
        "colab_type": "text"
      },
      "source": [
        "## Trim dataset to only top 100 ranked players"
      ]
    },
    {
      "cell_type": "code",
      "metadata": {
        "id": "mFRA6IsgbPR6",
        "colab_type": "code",
        "outputId": "5a91c578-a9cf-441b-eb9f-fe9dc9fdec18",
        "colab": {
          "base_uri": "https://localhost:8080/",
          "height": 414
        }
      },
      "source": [
        "# top 100 players all time over 10 years old\n",
        "wta_100 = wta_ranks[(wta_ranks['rank']<=100)&(wta_ranks['age']>=10)]\n",
        "# convert integer date to proper date format\n",
        "wta_100['r_date'] = wta_100['ranking_date'].apply(\n",
        "    lambda x: pd.to_datetime(str(x), format='%Y%m%d'))\n",
        "# set ranking year\n",
        "wta_100['r_year'] = wta_100['r_date'].dt.year\n",
        "# remove duplicates since 1984\n",
        "dfs_single_100 = [wta_100[wta_100['r_year']==year].drop_duplicates(\n",
        "                 ['name'], keep='last').drop_duplicates(\n",
        "                 ['rank'], keep='last') for year in range(1984,2020)]\n",
        "wta_100 = pd.concat(dfs_single_100, axis=0, sort=False, join='outer')\n",
        "\n",
        "print(wta_100.shape)\n",
        "wta_100.sample(5)"
      ],
      "execution_count": 0,
      "outputs": [
        {
          "output_type": "stream",
          "text": [
            "/usr/local/lib/python3.6/dist-packages/ipykernel_launcher.py:3: SettingWithCopyWarning: \n",
            "A value is trying to be set on a copy of a slice from a DataFrame.\n",
            "Try using .loc[row_indexer,col_indexer] = value instead\n",
            "\n",
            "See the caveats in the documentation: http://pandas.pydata.org/pandas-docs/stable/indexing.html#indexing-view-versus-copy\n",
            "  This is separate from the ipykernel package so we can avoid doing imports until\n",
            "/usr/local/lib/python3.6/dist-packages/ipykernel_launcher.py:5: SettingWithCopyWarning: \n",
            "A value is trying to be set on a copy of a slice from a DataFrame.\n",
            "Try using .loc[row_indexer,col_indexer] = value instead\n",
            "\n",
            "See the caveats in the documentation: http://pandas.pydata.org/pandas-docs/stable/indexing.html#indexing-view-versus-copy\n",
            "  \"\"\"\n"
          ],
          "name": "stderr"
        },
        {
          "output_type": "stream",
          "text": [
            "(3460, 14)\n"
          ],
          "name": "stdout"
        },
        {
          "output_type": "execute_result",
          "data": {
            "text/html": [
              "<div>\n",
              "<style scoped>\n",
              "    .dataframe tbody tr th:only-of-type {\n",
              "        vertical-align: middle;\n",
              "    }\n",
              "\n",
              "    .dataframe tbody tr th {\n",
              "        vertical-align: top;\n",
              "    }\n",
              "\n",
              "    .dataframe thead th {\n",
              "        text-align: right;\n",
              "    }\n",
              "</style>\n",
              "<table border=\"1\" class=\"dataframe\">\n",
              "  <thead>\n",
              "    <tr style=\"text-align: right;\">\n",
              "      <th></th>\n",
              "      <th>ranking_date</th>\n",
              "      <th>rank</th>\n",
              "      <th>player_id</th>\n",
              "      <th>3</th>\n",
              "      <th>4</th>\n",
              "      <th>name_first</th>\n",
              "      <th>name_list</th>\n",
              "      <th>hand</th>\n",
              "      <th>birthdate</th>\n",
              "      <th>country_id</th>\n",
              "      <th>name</th>\n",
              "      <th>age</th>\n",
              "      <th>r_date</th>\n",
              "      <th>r_year</th>\n",
              "    </tr>\n",
              "  </thead>\n",
              "  <tbody>\n",
              "    <tr>\n",
              "      <th>60316</th>\n",
              "      <td>19851230.0</td>\n",
              "      <td>48</td>\n",
              "      <td>200472.0</td>\n",
              "      <td>NaN</td>\n",
              "      <td>NaN</td>\n",
              "      <td>Helen</td>\n",
              "      <td>Kelesi</td>\n",
              "      <td>U</td>\n",
              "      <td>19691115.0</td>\n",
              "      <td>CAN</td>\n",
              "      <td>Helen Kelesi</td>\n",
              "      <td>16.0115</td>\n",
              "      <td>1985-12-30</td>\n",
              "      <td>1985</td>\n",
              "    </tr>\n",
              "    <tr>\n",
              "      <th>752980</th>\n",
              "      <td>20101227.0</td>\n",
              "      <td>76</td>\n",
              "      <td>201365.0</td>\n",
              "      <td>838.0</td>\n",
              "      <td>24.0</td>\n",
              "      <td>Edina</td>\n",
              "      <td>Gallovits Hall</td>\n",
              "      <td>R</td>\n",
              "      <td>19841210.0</td>\n",
              "      <td>ROU</td>\n",
              "      <td>Edina Gallovits Hall</td>\n",
              "      <td>26.0017</td>\n",
              "      <td>2010-12-27</td>\n",
              "      <td>2010</td>\n",
              "    </tr>\n",
              "    <tr>\n",
              "      <th>973925</th>\n",
              "      <td>20091228.0</td>\n",
              "      <td>89</td>\n",
              "      <td>201485.0</td>\n",
              "      <td>700.0</td>\n",
              "      <td>28.0</td>\n",
              "      <td>Alla</td>\n",
              "      <td>Kudryavtseva</td>\n",
              "      <td>R</td>\n",
              "      <td>19871103.0</td>\n",
              "      <td>RUS</td>\n",
              "      <td>Alla Kudryavtseva</td>\n",
              "      <td>22.0125</td>\n",
              "      <td>2009-12-28</td>\n",
              "      <td>2009</td>\n",
              "    </tr>\n",
              "    <tr>\n",
              "      <th>215384</th>\n",
              "      <td>20031229.0</td>\n",
              "      <td>55</td>\n",
              "      <td>200118.0</td>\n",
              "      <td>653.0</td>\n",
              "      <td>NaN</td>\n",
              "      <td>Virginia</td>\n",
              "      <td>Ruano Pascual</td>\n",
              "      <td>R</td>\n",
              "      <td>19730921.0</td>\n",
              "      <td>ESP</td>\n",
              "      <td>Virginia Ruano Pascual</td>\n",
              "      <td>30.0308</td>\n",
              "      <td>2003-12-29</td>\n",
              "      <td>2003</td>\n",
              "    </tr>\n",
              "    <tr>\n",
              "      <th>337298</th>\n",
              "      <td>20011231.0</td>\n",
              "      <td>98</td>\n",
              "      <td>200754.0</td>\n",
              "      <td>376.0</td>\n",
              "      <td>27.0</td>\n",
              "      <td>Jill</td>\n",
              "      <td>Craybas</td>\n",
              "      <td>R</td>\n",
              "      <td>19740704.0</td>\n",
              "      <td>USA</td>\n",
              "      <td>Jill Craybas</td>\n",
              "      <td>27.0527</td>\n",
              "      <td>2001-12-31</td>\n",
              "      <td>2001</td>\n",
              "    </tr>\n",
              "  </tbody>\n",
              "</table>\n",
              "</div>"
            ],
            "text/plain": [
              "        ranking_date  rank  player_id  ...      age     r_date r_year\n",
              "60316     19851230.0    48   200472.0  ...  16.0115 1985-12-30   1985\n",
              "752980    20101227.0    76   201365.0  ...  26.0017 2010-12-27   2010\n",
              "973925    20091228.0    89   201485.0  ...  22.0125 2009-12-28   2009\n",
              "215384    20031229.0    55   200118.0  ...  30.0308 2003-12-29   2003\n",
              "337298    20011231.0    98   200754.0  ...  27.0527 2001-12-31   2001\n",
              "\n",
              "[5 rows x 14 columns]"
            ]
          },
          "metadata": {
            "tags": []
          },
          "execution_count": 6
        }
      ]
    },
    {
      "cell_type": "code",
      "metadata": {
        "id": "3HLkUpq7dy8Z",
        "colab_type": "code",
        "outputId": "a76fced6-34a3-4eb9-a729-204fc44708bc",
        "colab": {
          "base_uri": "https://localhost:8080/",
          "height": 432
        }
      },
      "source": [
        "# create dataframe for average top 100 players' age\n",
        "age_data = []\n",
        "for year in range(1984,2019):\n",
        "  df_year = wta_100[wta_100['r_year']==year]\n",
        "  age_100 = df_year.age\n",
        "  age_mean = age_100.mean()\n",
        "  age_data.append([df_year.iloc[-1]['r_date'], age_mean])\n",
        "  \n",
        "wta_age_100 = pd.DataFrame(age_data,columns=['date','Average Age'])\n",
        "wta_age_100.describe(include='all')"
      ],
      "execution_count": 0,
      "outputs": [
        {
          "output_type": "execute_result",
          "data": {
            "text/html": [
              "<div>\n",
              "<style scoped>\n",
              "    .dataframe tbody tr th:only-of-type {\n",
              "        vertical-align: middle;\n",
              "    }\n",
              "\n",
              "    .dataframe tbody tr th {\n",
              "        vertical-align: top;\n",
              "    }\n",
              "\n",
              "    .dataframe thead th {\n",
              "        text-align: right;\n",
              "    }\n",
              "</style>\n",
              "<table border=\"1\" class=\"dataframe\">\n",
              "  <thead>\n",
              "    <tr style=\"text-align: right;\">\n",
              "      <th></th>\n",
              "      <th>date</th>\n",
              "      <th>Average Age</th>\n",
              "    </tr>\n",
              "  </thead>\n",
              "  <tbody>\n",
              "    <tr>\n",
              "      <th>count</th>\n",
              "      <td>35</td>\n",
              "      <td>35.000000</td>\n",
              "    </tr>\n",
              "    <tr>\n",
              "      <th>unique</th>\n",
              "      <td>35</td>\n",
              "      <td>NaN</td>\n",
              "    </tr>\n",
              "    <tr>\n",
              "      <th>top</th>\n",
              "      <td>2007-12-31 00:00:00</td>\n",
              "      <td>NaN</td>\n",
              "    </tr>\n",
              "    <tr>\n",
              "      <th>freq</th>\n",
              "      <td>1</td>\n",
              "      <td>NaN</td>\n",
              "    </tr>\n",
              "    <tr>\n",
              "      <th>first</th>\n",
              "      <td>1984-12-31 00:00:00</td>\n",
              "      <td>NaN</td>\n",
              "    </tr>\n",
              "    <tr>\n",
              "      <th>last</th>\n",
              "      <td>2018-05-28 00:00:00</td>\n",
              "      <td>NaN</td>\n",
              "    </tr>\n",
              "    <tr>\n",
              "      <th>mean</th>\n",
              "      <td>NaN</td>\n",
              "      <td>23.349208</td>\n",
              "    </tr>\n",
              "    <tr>\n",
              "      <th>std</th>\n",
              "      <td>NaN</td>\n",
              "      <td>1.028109</td>\n",
              "    </tr>\n",
              "    <tr>\n",
              "      <th>min</th>\n",
              "      <td>NaN</td>\n",
              "      <td>21.644281</td>\n",
              "    </tr>\n",
              "    <tr>\n",
              "      <th>25%</th>\n",
              "      <td>NaN</td>\n",
              "      <td>22.715715</td>\n",
              "    </tr>\n",
              "    <tr>\n",
              "      <th>50%</th>\n",
              "      <td>NaN</td>\n",
              "      <td>23.166729</td>\n",
              "    </tr>\n",
              "    <tr>\n",
              "      <th>75%</th>\n",
              "      <td>NaN</td>\n",
              "      <td>23.983412</td>\n",
              "    </tr>\n",
              "    <tr>\n",
              "      <th>max</th>\n",
              "      <td>NaN</td>\n",
              "      <td>25.597018</td>\n",
              "    </tr>\n",
              "  </tbody>\n",
              "</table>\n",
              "</div>"
            ],
            "text/plain": [
              "                       date  Average Age\n",
              "count                    35    35.000000\n",
              "unique                   35          NaN\n",
              "top     2007-12-31 00:00:00          NaN\n",
              "freq                      1          NaN\n",
              "first   1984-12-31 00:00:00          NaN\n",
              "last    2018-05-28 00:00:00          NaN\n",
              "mean                    NaN    23.349208\n",
              "std                     NaN     1.028109\n",
              "min                     NaN    21.644281\n",
              "25%                     NaN    22.715715\n",
              "50%                     NaN    23.166729\n",
              "75%                     NaN    23.983412\n",
              "max                     NaN    25.597018"
            ]
          },
          "metadata": {
            "tags": []
          },
          "execution_count": 7
        }
      ]
    },
    {
      "cell_type": "markdown",
      "metadata": {
        "id": "RbRRXuAHy3Ux",
        "colab_type": "text"
      },
      "source": [
        "## Graph average age of top 100 ranked players"
      ]
    },
    {
      "cell_type": "code",
      "metadata": {
        "id": "NQKJuzSerP-F",
        "colab_type": "code",
        "outputId": "28fb6bd0-9e02-4986-eae6-d3bcc2b2edaf",
        "colab": {
          "base_uri": "https://localhost:8080/",
          "height": 450
        }
      },
      "source": [
        "fig, ax = plt.subplots(figsize=(8,6))\n",
        "# set plot style\n",
        "plt.style.use('fivethirtyeight')\n",
        "\n",
        "# despine outer frame\n",
        "sns.set()\n",
        "sns.despine(left=True, bottom=True)\n",
        "\n",
        "# set background to white\n",
        "plt.rcParams['figure.facecolor'] = 'white'\n",
        "plt.grid(color='#A5A5A5')\n",
        "ax.set(yticks=range(0, 50, 1), facecolor='white')\n",
        "\n",
        "# average age mean line\n",
        "ax.plot(wta_age_100.date, wta_age_100['Average Age'], color='#D55F00', lw=3)\n",
        "\n",
        "# fill between upper std and lower bound std\n",
        "# ax.fill_between(df_age_100.date, df_age_100.up_std, df_age_100.low_std, alpha=.2)\n",
        "\n",
        "# set x and y label\n",
        "ax.set_xlabel(' ',fontsize = 12,fontweight='semibold')\n",
        "ax.set_ylabel(' ',fontsize = 12,fontweight='semibold')\n",
        "\n",
        "# modify x labels\n",
        "ax.set_xticks([pd.to_datetime('1985-1-1'), pd.to_datetime('1990-1-1'), \n",
        "               pd.to_datetime('1995-1-1'), pd.to_datetime('2000-1-1'), \n",
        "               pd.to_datetime('2005-1-1'), pd.to_datetime('2010-1-1'), \n",
        "               pd.to_datetime('2015-1-1')])\n",
        "ax.set_xticklabels(labels=[\"1985\",\"'90\",\"'95\",\"2000\",\"'05\",\"'10\",\"'15\"], \n",
        "                   fontsize=13, color='#A5A5A5')\n",
        "\n",
        "# set x and y limits\n",
        "ax.set_xlim([pd.to_datetime('1984-1-1'), pd.to_datetime('2019-12-31')])\n",
        "ax.set_ylim([20.9, 25.65])\n",
        "\n",
        "# change size and color of tick labels, extend grid\n",
        "plt.tick_params(axis='x',labelsize=15,labelcolor='#A5A5A5', \n",
        "               color = '#A5A5A5')\n",
        "plt.tick_params(axis = 'y', labelsize = 15, labelcolor = '#A5A5A5')\n",
        "\n",
        "# Text for Title\n",
        "ax.text(x=pd.to_datetime('1982-1-1'), y=25.8, s=\"WTA Players Aging Trend\", \n",
        "        fontsize=16, fontweight='bold');\n",
        "\n",
        "# Text for Subtitle\n",
        "ax.text(x=pd.to_datetime('1982-1-1'), y=25.50,backgroundcolor = 'white',\n",
        "        s=\"Average age of Top 100 WTA players since 1984\", fontsize=14);\n",
        "\n",
        "# text for yrs next to 40\n",
        "ax.text(x=pd.to_datetime('1983-8-1'), y=24.915, s=\"yrs\", fontsize=15, \n",
        "        color='#A5A5A5',backgroundcolor = 'white')\n",
        "\n",
        "# text for average age\n",
        "ax.text(x=pd.to_datetime('1995-6-30'), y=23.6, s=\"Women\", fontsize=20, \n",
        "        color='#D55F00', fontweight='semibold',backgroundcolor = 'white')\n",
        "\n",
        "# signature line at bottom\n",
        "ax.text(x =pd.to_datetime('1982-4-1'), y=20.5,\n",
        "    s = '__________________________________________________________________________________________________',\n",
        "    fontsize = 9, family='monospace', color = '#A5A5A5')\n",
        "ax.text(x =pd.to_datetime('1982-4-1'), y=20.3,\n",
        "    s = 'GEORGE HOU                                                                  SOURCE: TENNISABSTRACT',\n",
        "    fontsize = 9, family='monospace', color = '#A5A5A5')\n",
        "\n",
        "# bold y axis at 0\n",
        "ax.axhline(y=0, color='black', linewidth=1.5, alpha=0.5);"
      ],
      "execution_count": 0,
      "outputs": [
        {
          "output_type": "display_data",
          "data": {
            "image/png": "[encoded data removed]",
            "text/plain": [
              "<Figure size 576x432 with 1 Axes>"
            ]
          },
          "metadata": {
            "tags": []
          }
        }
      ]
    }
  ]
}
